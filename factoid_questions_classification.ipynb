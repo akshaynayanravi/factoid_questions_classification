{
 "cells": [
  {
   "cell_type": "code",
   "execution_count": 1,
   "metadata": {},
   "outputs": [],
   "source": [
    "import numpy as np\n",
    "import pandas as pd\n",
    "import matplotlib.pyplot as plt\n",
    "import seaborn as sns\n",
    "import re as re\n",
    "import nltk as nl"
   ]
  },
  {
   "cell_type": "code",
   "execution_count": 2,
   "metadata": {
    "scrolled": false
   },
   "outputs": [
    {
     "name": "stderr",
     "output_type": "stream",
     "text": [
      "C:\\Users\\DELL\\Anaconda3\\lib\\site-packages\\ipykernel_launcher.py:1: ParserWarning: Falling back to the 'python' engine because the 'c' engine does not support regex separators (separators > 1 char and different from '\\s+' are interpreted as regex); you can avoid this warning by specifying engine='python'.\n",
      "  \"\"\"Entry point for launching an IPython kernel.\n"
     ]
    }
   ],
   "source": [
    "data_raw = pd.read_csv('C:\\\\Users\\\\DELL\\\\Desktop\\\\Akshay\\\\Datasets\\\\factoid_questions_classification\\\\factoid_questions_dataset.txt', sep='delimiter', header=None, names=['Factoids'], dtype={'Factoids':str})"
   ]
  },
  {
   "cell_type": "code",
   "execution_count": 3,
   "metadata": {},
   "outputs": [
    {
     "data": {
      "text/html": [
       "<div>\n",
       "<style scoped>\n",
       "    .dataframe tbody tr th:only-of-type {\n",
       "        vertical-align: middle;\n",
       "    }\n",
       "\n",
       "    .dataframe tbody tr th {\n",
       "        vertical-align: top;\n",
       "    }\n",
       "\n",
       "    .dataframe thead th {\n",
       "        text-align: right;\n",
       "    }\n",
       "</style>\n",
       "<table border=\"1\" class=\"dataframe\">\n",
       "  <thead>\n",
       "    <tr style=\"text-align: right;\">\n",
       "      <th></th>\n",
       "      <th>Factoids</th>\n",
       "    </tr>\n",
       "  </thead>\n",
       "  <tbody>\n",
       "    <tr>\n",
       "      <td>0</td>\n",
       "      <td>DESC:manner How did serfdom develop in and the...</td>\n",
       "    </tr>\n",
       "    <tr>\n",
       "      <td>1</td>\n",
       "      <td>ENTY:cremat What films featured the character ...</td>\n",
       "    </tr>\n",
       "    <tr>\n",
       "      <td>2</td>\n",
       "      <td>DESC:manner How can I find a list of celebriti...</td>\n",
       "    </tr>\n",
       "    <tr>\n",
       "      <td>3</td>\n",
       "      <td>ENTY:animal What fowl grabs the spotlight afte...</td>\n",
       "    </tr>\n",
       "    <tr>\n",
       "      <td>4</td>\n",
       "      <td>ABBR:exp What is the full form of .com ?</td>\n",
       "    </tr>\n",
       "    <tr>\n",
       "      <td>...</td>\n",
       "      <td>...</td>\n",
       "    </tr>\n",
       "    <tr>\n",
       "      <td>995</td>\n",
       "      <td>DESC:manner How do you look up criminal record...</td>\n",
       "    </tr>\n",
       "    <tr>\n",
       "      <td>996</td>\n",
       "      <td>LOC:other Where is the actress , Marion Davies...</td>\n",
       "    </tr>\n",
       "    <tr>\n",
       "      <td>997</td>\n",
       "      <td>DESC:desc What is an example of an actual case...</td>\n",
       "    </tr>\n",
       "    <tr>\n",
       "      <td>998</td>\n",
       "      <td>HUM:ind Who was the Charlie perfume woman ?</td>\n",
       "    </tr>\n",
       "    <tr>\n",
       "      <td>999</td>\n",
       "      <td>HUM:ind Who portrayed `` Rosanne Rosanna-Dana ...</td>\n",
       "    </tr>\n",
       "  </tbody>\n",
       "</table>\n",
       "<p>1000 rows × 1 columns</p>\n",
       "</div>"
      ],
      "text/plain": [
       "                                              Factoids\n",
       "0    DESC:manner How did serfdom develop in and the...\n",
       "1    ENTY:cremat What films featured the character ...\n",
       "2    DESC:manner How can I find a list of celebriti...\n",
       "3    ENTY:animal What fowl grabs the spotlight afte...\n",
       "4             ABBR:exp What is the full form of .com ?\n",
       "..                                                 ...\n",
       "995  DESC:manner How do you look up criminal record...\n",
       "996  LOC:other Where is the actress , Marion Davies...\n",
       "997  DESC:desc What is an example of an actual case...\n",
       "998        HUM:ind Who was the Charlie perfume woman ?\n",
       "999  HUM:ind Who portrayed `` Rosanne Rosanna-Dana ...\n",
       "\n",
       "[1000 rows x 1 columns]"
      ]
     },
     "execution_count": 3,
     "metadata": {},
     "output_type": "execute_result"
    }
   ],
   "source": [
    "data_raw"
   ]
  },
  {
   "cell_type": "code",
   "execution_count": 4,
   "metadata": {},
   "outputs": [],
   "source": [
    "data_raw['Factoids'] = data_raw.Factoids.str.replace(':', ' ')"
   ]
  },
  {
   "cell_type": "code",
   "execution_count": 20,
   "metadata": {},
   "outputs": [],
   "source": [
    "data_raw['Class'] = data_raw.Factoids.str.split('\\s+').str[0]\n",
    "data_raw['Sub-Class'] = data_raw.Factoids.str.split('\\s+').str[1]\n",
    "data_raw['Questions'] = data_raw.Factoids.str.split('\\s+').str[2:]"
   ]
  },
  {
   "cell_type": "code",
   "execution_count": 21,
   "metadata": {
    "scrolled": true
   },
   "outputs": [
    {
     "data": {
      "text/html": [
       "<div>\n",
       "<style scoped>\n",
       "    .dataframe tbody tr th:only-of-type {\n",
       "        vertical-align: middle;\n",
       "    }\n",
       "\n",
       "    .dataframe tbody tr th {\n",
       "        vertical-align: top;\n",
       "    }\n",
       "\n",
       "    .dataframe thead th {\n",
       "        text-align: right;\n",
       "    }\n",
       "</style>\n",
       "<table border=\"1\" class=\"dataframe\">\n",
       "  <thead>\n",
       "    <tr style=\"text-align: right;\">\n",
       "      <th></th>\n",
       "      <th>Factoids</th>\n",
       "      <th>Class</th>\n",
       "      <th>Sub-Class</th>\n",
       "      <th>Questions</th>\n",
       "    </tr>\n",
       "  </thead>\n",
       "  <tbody>\n",
       "    <tr>\n",
       "      <td>0</td>\n",
       "      <td>DESC manner How did serfdom develop in and the...</td>\n",
       "      <td>DESC</td>\n",
       "      <td>manner</td>\n",
       "      <td>[How, did, serfdom, develop, in, and, then, le...</td>\n",
       "    </tr>\n",
       "    <tr>\n",
       "      <td>1</td>\n",
       "      <td>ENTY cremat What films featured the character ...</td>\n",
       "      <td>ENTY</td>\n",
       "      <td>cremat</td>\n",
       "      <td>[What, films, featured, the, character, Popeye...</td>\n",
       "    </tr>\n",
       "    <tr>\n",
       "      <td>2</td>\n",
       "      <td>DESC manner How can I find a list of celebriti...</td>\n",
       "      <td>DESC</td>\n",
       "      <td>manner</td>\n",
       "      <td>[How, can, I, find, a, list, of, celebrities, ...</td>\n",
       "    </tr>\n",
       "    <tr>\n",
       "      <td>3</td>\n",
       "      <td>ENTY animal What fowl grabs the spotlight afte...</td>\n",
       "      <td>ENTY</td>\n",
       "      <td>animal</td>\n",
       "      <td>[What, fowl, grabs, the, spotlight, after, the...</td>\n",
       "    </tr>\n",
       "    <tr>\n",
       "      <td>4</td>\n",
       "      <td>ABBR exp What is the full form of .com ?</td>\n",
       "      <td>ABBR</td>\n",
       "      <td>exp</td>\n",
       "      <td>[What, is, the, full, form, of, .com, ?]</td>\n",
       "    </tr>\n",
       "    <tr>\n",
       "      <td>...</td>\n",
       "      <td>...</td>\n",
       "      <td>...</td>\n",
       "      <td>...</td>\n",
       "      <td>...</td>\n",
       "    </tr>\n",
       "    <tr>\n",
       "      <td>995</td>\n",
       "      <td>DESC manner How do you look up criminal record...</td>\n",
       "      <td>DESC</td>\n",
       "      <td>manner</td>\n",
       "      <td>[How, do, you, look, up, criminal, records, on...</td>\n",
       "    </tr>\n",
       "    <tr>\n",
       "      <td>996</td>\n",
       "      <td>LOC other Where is the actress , Marion Davies...</td>\n",
       "      <td>LOC</td>\n",
       "      <td>other</td>\n",
       "      <td>[Where, is, the, actress, ,, Marion, Davies, ,...</td>\n",
       "    </tr>\n",
       "    <tr>\n",
       "      <td>997</td>\n",
       "      <td>DESC desc What is an example of an actual case...</td>\n",
       "      <td>DESC</td>\n",
       "      <td>desc</td>\n",
       "      <td>[What, is, an, example, of, an, actual, case, ...</td>\n",
       "    </tr>\n",
       "    <tr>\n",
       "      <td>998</td>\n",
       "      <td>HUM ind Who was the Charlie perfume woman ?</td>\n",
       "      <td>HUM</td>\n",
       "      <td>ind</td>\n",
       "      <td>[Who, was, the, Charlie, perfume, woman, ?]</td>\n",
       "    </tr>\n",
       "    <tr>\n",
       "      <td>999</td>\n",
       "      <td>HUM ind Who portrayed `` Rosanne Rosanna-Dana ...</td>\n",
       "      <td>HUM</td>\n",
       "      <td>ind</td>\n",
       "      <td>[Who, portrayed, ``, Rosanne, Rosanna-Dana, ''...</td>\n",
       "    </tr>\n",
       "  </tbody>\n",
       "</table>\n",
       "<p>1000 rows × 4 columns</p>\n",
       "</div>"
      ],
      "text/plain": [
       "                                              Factoids Class Sub-Class  \\\n",
       "0    DESC manner How did serfdom develop in and the...  DESC    manner   \n",
       "1    ENTY cremat What films featured the character ...  ENTY    cremat   \n",
       "2    DESC manner How can I find a list of celebriti...  DESC    manner   \n",
       "3    ENTY animal What fowl grabs the spotlight afte...  ENTY    animal   \n",
       "4             ABBR exp What is the full form of .com ?  ABBR       exp   \n",
       "..                                                 ...   ...       ...   \n",
       "995  DESC manner How do you look up criminal record...  DESC    manner   \n",
       "996  LOC other Where is the actress , Marion Davies...   LOC     other   \n",
       "997  DESC desc What is an example of an actual case...  DESC      desc   \n",
       "998        HUM ind Who was the Charlie perfume woman ?   HUM       ind   \n",
       "999  HUM ind Who portrayed `` Rosanne Rosanna-Dana ...   HUM       ind   \n",
       "\n",
       "                                             Questions  \n",
       "0    [How, did, serfdom, develop, in, and, then, le...  \n",
       "1    [What, films, featured, the, character, Popeye...  \n",
       "2    [How, can, I, find, a, list, of, celebrities, ...  \n",
       "3    [What, fowl, grabs, the, spotlight, after, the...  \n",
       "4             [What, is, the, full, form, of, .com, ?]  \n",
       "..                                                 ...  \n",
       "995  [How, do, you, look, up, criminal, records, on...  \n",
       "996  [Where, is, the, actress, ,, Marion, Davies, ,...  \n",
       "997  [What, is, an, example, of, an, actual, case, ...  \n",
       "998        [Who, was, the, Charlie, perfume, woman, ?]  \n",
       "999  [Who, portrayed, ``, Rosanne, Rosanna-Dana, ''...  \n",
       "\n",
       "[1000 rows x 4 columns]"
      ]
     },
     "execution_count": 21,
     "metadata": {},
     "output_type": "execute_result"
    }
   ],
   "source": [
    "data_raw"
   ]
  },
  {
   "cell_type": "code",
   "execution_count": null,
   "metadata": {},
   "outputs": [],
   "source": []
  },
  {
   "cell_type": "code",
   "execution_count": null,
   "metadata": {},
   "outputs": [],
   "source": []
  }
 ],
 "metadata": {
  "kernelspec": {
   "display_name": "Python 3",
   "language": "python",
   "name": "python3"
  },
  "language_info": {
   "codemirror_mode": {
    "name": "ipython",
    "version": 3
   },
   "file_extension": ".py",
   "mimetype": "text/x-python",
   "name": "python",
   "nbconvert_exporter": "python",
   "pygments_lexer": "ipython3",
   "version": "3.7.4"
  }
 },
 "nbformat": 4,
 "nbformat_minor": 2
}
