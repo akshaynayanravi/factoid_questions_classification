{
 "cells": [
  {
   "cell_type": "code",
   "execution_count": 1,
   "metadata": {},
   "outputs": [],
   "source": [
    "import numpy as np\n",
    "import pandas as pd\n",
    "import matplotlib.pyplot as plt\n",
    "import seaborn as sns\n",
    "import re as re\n",
    "import nltk as nl\n",
    "from nltk import word_tokenize, pos_tag, bigrams\n",
    "from nltk.parse.api import ParserI\n",
    "\n",
    "sns.set\n",
    "pd.options.display.max_colwidth = 200"
   ]
  },
  {
   "cell_type": "code",
   "execution_count": 2,
   "metadata": {
    "scrolled": true
   },
   "outputs": [
    {
     "name": "stderr",
     "output_type": "stream",
     "text": [
      "C:\\Users\\DELL\\Anaconda3\\lib\\site-packages\\ipykernel_launcher.py:1: ParserWarning: Falling back to the 'python' engine because the 'c' engine does not support regex separators (separators > 1 char and different from '\\s+' are interpreted as regex); you can avoid this warning by specifying engine='python'.\n",
      "  \"\"\"Entry point for launching an IPython kernel.\n"
     ]
    }
   ],
   "source": [
    "data_raw = pd.read_csv('C:\\\\Users\\\\DELL\\\\Desktop\\\\Akshay\\\\Datasets\\\\factoid_questions_classification\\\\factoid_questions_dataset.txt', sep='delimiter', header=None, names=['Factoids'], dtype={'Factoids':str})"
   ]
  },
  {
   "cell_type": "code",
   "execution_count": 3,
   "metadata": {},
   "outputs": [
    {
     "data": {
      "text/html": [
       "<div>\n",
       "<style scoped>\n",
       "    .dataframe tbody tr th:only-of-type {\n",
       "        vertical-align: middle;\n",
       "    }\n",
       "\n",
       "    .dataframe tbody tr th {\n",
       "        vertical-align: top;\n",
       "    }\n",
       "\n",
       "    .dataframe thead th {\n",
       "        text-align: right;\n",
       "    }\n",
       "</style>\n",
       "<table border=\"1\" class=\"dataframe\">\n",
       "  <thead>\n",
       "    <tr style=\"text-align: right;\">\n",
       "      <th></th>\n",
       "      <th>Factoids</th>\n",
       "    </tr>\n",
       "  </thead>\n",
       "  <tbody>\n",
       "    <tr>\n",
       "      <td>0</td>\n",
       "      <td>DESC:manner How did serfdom develop in and then leave Russia ?</td>\n",
       "    </tr>\n",
       "    <tr>\n",
       "      <td>1</td>\n",
       "      <td>ENTY:cremat What films featured the character Popeye Doyle ?</td>\n",
       "    </tr>\n",
       "    <tr>\n",
       "      <td>2</td>\n",
       "      <td>DESC:manner How can I find a list of celebrities ' real names ?</td>\n",
       "    </tr>\n",
       "    <tr>\n",
       "      <td>3</td>\n",
       "      <td>ENTY:animal What fowl grabs the spotlight after the Chinese Year of the Monkey ?</td>\n",
       "    </tr>\n",
       "    <tr>\n",
       "      <td>4</td>\n",
       "      <td>ABBR:exp What is the full form of .com ?</td>\n",
       "    </tr>\n",
       "    <tr>\n",
       "      <td>...</td>\n",
       "      <td>...</td>\n",
       "    </tr>\n",
       "    <tr>\n",
       "      <td>995</td>\n",
       "      <td>DESC:manner How do you look up criminal records on the Internet ?</td>\n",
       "    </tr>\n",
       "    <tr>\n",
       "      <td>996</td>\n",
       "      <td>LOC:other Where is the actress , Marion Davies , buried ?</td>\n",
       "    </tr>\n",
       "    <tr>\n",
       "      <td>997</td>\n",
       "      <td>DESC:desc What is an example of an actual case of using the Fourteenth Amendment ?</td>\n",
       "    </tr>\n",
       "    <tr>\n",
       "      <td>998</td>\n",
       "      <td>HUM:ind Who was the Charlie perfume woman ?</td>\n",
       "    </tr>\n",
       "    <tr>\n",
       "      <td>999</td>\n",
       "      <td>HUM:ind Who portrayed `` Rosanne Rosanna-Dana '' on the television show `` Saturday Night Live '' ?</td>\n",
       "    </tr>\n",
       "  </tbody>\n",
       "</table>\n",
       "<p>1000 rows × 1 columns</p>\n",
       "</div>"
      ],
      "text/plain": [
       "                                                                                                Factoids\n",
       "0                                         DESC:manner How did serfdom develop in and then leave Russia ?\n",
       "1                                           ENTY:cremat What films featured the character Popeye Doyle ?\n",
       "2                                        DESC:manner How can I find a list of celebrities ' real names ?\n",
       "3                       ENTY:animal What fowl grabs the spotlight after the Chinese Year of the Monkey ?\n",
       "4                                                               ABBR:exp What is the full form of .com ?\n",
       "..                                                                                                   ...\n",
       "995                                    DESC:manner How do you look up criminal records on the Internet ?\n",
       "996                                            LOC:other Where is the actress , Marion Davies , buried ?\n",
       "997                   DESC:desc What is an example of an actual case of using the Fourteenth Amendment ?\n",
       "998                                                          HUM:ind Who was the Charlie perfume woman ?\n",
       "999  HUM:ind Who portrayed `` Rosanne Rosanna-Dana '' on the television show `` Saturday Night Live '' ?\n",
       "\n",
       "[1000 rows x 1 columns]"
      ]
     },
     "execution_count": 3,
     "metadata": {},
     "output_type": "execute_result"
    }
   ],
   "source": [
    "data_raw"
   ]
  },
  {
   "cell_type": "code",
   "execution_count": 7,
   "metadata": {
    "scrolled": true
   },
   "outputs": [
    {
     "data": {
      "text/html": [
       "<div>\n",
       "<style scoped>\n",
       "    .dataframe tbody tr th:only-of-type {\n",
       "        vertical-align: middle;\n",
       "    }\n",
       "\n",
       "    .dataframe tbody tr th {\n",
       "        vertical-align: top;\n",
       "    }\n",
       "\n",
       "    .dataframe thead th {\n",
       "        text-align: right;\n",
       "    }\n",
       "</style>\n",
       "<table border=\"1\" class=\"dataframe\">\n",
       "  <thead>\n",
       "    <tr style=\"text-align: right;\">\n",
       "      <th></th>\n",
       "      <th>Class</th>\n",
       "      <th>Sub-Class</th>\n",
       "      <th>Questions</th>\n",
       "    </tr>\n",
       "  </thead>\n",
       "  <tbody>\n",
       "    <tr>\n",
       "      <td>0</td>\n",
       "      <td>DESC</td>\n",
       "      <td>manner</td>\n",
       "      <td>How did serfdom develop in and then leave Russia ?</td>\n",
       "    </tr>\n",
       "    <tr>\n",
       "      <td>1</td>\n",
       "      <td>ENTY</td>\n",
       "      <td>cremat</td>\n",
       "      <td>What films featured the character Popeye Doyle ?</td>\n",
       "    </tr>\n",
       "    <tr>\n",
       "      <td>2</td>\n",
       "      <td>DESC</td>\n",
       "      <td>manner</td>\n",
       "      <td>How can I find a list of celebrities ' real names ?</td>\n",
       "    </tr>\n",
       "    <tr>\n",
       "      <td>3</td>\n",
       "      <td>ENTY</td>\n",
       "      <td>animal</td>\n",
       "      <td>What fowl grabs the spotlight after the Chinese Year of the Monkey ?</td>\n",
       "    </tr>\n",
       "    <tr>\n",
       "      <td>4</td>\n",
       "      <td>ABBR</td>\n",
       "      <td>exp</td>\n",
       "      <td>What is the full form of .com ?</td>\n",
       "    </tr>\n",
       "    <tr>\n",
       "      <td>...</td>\n",
       "      <td>...</td>\n",
       "      <td>...</td>\n",
       "      <td>...</td>\n",
       "    </tr>\n",
       "    <tr>\n",
       "      <td>995</td>\n",
       "      <td>DESC</td>\n",
       "      <td>manner</td>\n",
       "      <td>How do you look up criminal records on the Internet ?</td>\n",
       "    </tr>\n",
       "    <tr>\n",
       "      <td>996</td>\n",
       "      <td>LOC</td>\n",
       "      <td>other</td>\n",
       "      <td>Where is the actress , Marion Davies , buried ?</td>\n",
       "    </tr>\n",
       "    <tr>\n",
       "      <td>997</td>\n",
       "      <td>DESC</td>\n",
       "      <td>desc</td>\n",
       "      <td>What is an example of an actual case of using the Fourteenth Amendment ?</td>\n",
       "    </tr>\n",
       "    <tr>\n",
       "      <td>998</td>\n",
       "      <td>HUM</td>\n",
       "      <td>ind</td>\n",
       "      <td>Who was the Charlie perfume woman ?</td>\n",
       "    </tr>\n",
       "    <tr>\n",
       "      <td>999</td>\n",
       "      <td>HUM</td>\n",
       "      <td>ind</td>\n",
       "      <td>Who portrayed `` Rosanne Rosanna-Dana '' on the television show `` Saturday Night Live '' ?</td>\n",
       "    </tr>\n",
       "  </tbody>\n",
       "</table>\n",
       "<p>1000 rows × 3 columns</p>\n",
       "</div>"
      ],
      "text/plain": [
       "    Class Sub-Class  \\\n",
       "0    DESC    manner   \n",
       "1    ENTY    cremat   \n",
       "2    DESC    manner   \n",
       "3    ENTY    animal   \n",
       "4    ABBR       exp   \n",
       "..    ...       ...   \n",
       "995  DESC    manner   \n",
       "996   LOC     other   \n",
       "997  DESC      desc   \n",
       "998   HUM       ind   \n",
       "999   HUM       ind   \n",
       "\n",
       "                                                                                       Questions  \n",
       "0                                             How did serfdom develop in and then leave Russia ?  \n",
       "1                                               What films featured the character Popeye Doyle ?  \n",
       "2                                            How can I find a list of celebrities ' real names ?  \n",
       "3                           What fowl grabs the spotlight after the Chinese Year of the Monkey ?  \n",
       "4                                                                What is the full form of .com ?  \n",
       "..                                                                                           ...  \n",
       "995                                        How do you look up criminal records on the Internet ?  \n",
       "996                                              Where is the actress , Marion Davies , buried ?  \n",
       "997                     What is an example of an actual case of using the Fourteenth Amendment ?  \n",
       "998                                                          Who was the Charlie perfume woman ?  \n",
       "999  Who portrayed `` Rosanne Rosanna-Dana '' on the television show `` Saturday Night Live '' ?  \n",
       "\n",
       "[1000 rows x 3 columns]"
      ]
     },
     "execution_count": 7,
     "metadata": {},
     "output_type": "execute_result"
    }
   ],
   "source": [
    "data_raw['Factoids'] = data_raw.Factoids.str.replace(':', ' ')\n",
    "data_raw['Class'] = data_raw.Factoids.str.split('\\s+').str[0]\n",
    "data_raw['Sub-Class'] = data_raw.Factoids.str.split('\\s+').str[1]\n",
    "data_raw['Questions'] = data_raw.Factoids.str.split().str[2:].str.join(' ')\n",
    "data_raw.drop('Factoids', axis=1)"
   ]
  },
  {
   "cell_type": "code",
   "execution_count": 68,
   "metadata": {
    "scrolled": true
   },
   "outputs": [
    {
     "name": "stdout",
     "output_type": "stream",
     "text": [
      "Tokens: ['How', 'far', 'is', 'it', 'from', 'Denver', 'to', 'Aspen', '?']\n",
      "Pos Tags: [('How', 'WRB'), ('far', 'RB'), ('is', 'VBZ'), ('it', 'PRP'), ('from', 'IN'), ('Denver', 'NNP'), ('to', 'TO'), ('Aspen', 'VB'), ('?', '.')]\n",
      "Padded Text: ['How', 'far', 'is', 'it', 'from', 'Denver', 'to', 'Aspen', '?', '<PAD>', '<PAD>', '<PAD>', '<PAD>', '<PAD>', '<PAD>', '<PAD>', '<PAD>', '<PAD>', '<PAD>', '<PAD>', '<PAD>', '<PAD>', '<PAD>', '<PAD>', '<PAD>', '<PAD>', '<PAD>', '<PAD>', '<PAD>', '<PAD>', '<PAD>', '<PAD>', '<PAD>', '<PAD>', '<PAD>', '<PAD>', '<PAD>']\n"
     ]
    }
   ],
   "source": [
    "max_len = 37\n",
    "\n",
    "text = \"How far is it from Denver to Aspen?\"\n",
    "\n",
    "tok_text = word_tokenize(text)\n",
    "print(f\"Tokens: {tok_text}\")\n",
    "\n",
    "postag_text = pos_tag(tok_text)\n",
    "print(f\"Pos Tags: {list(postag_text)}\")\n",
    "\n",
    "t = tok_text+[\"<PAD>\"]*(37-len(tok_text)) if len(tok_text) < 37 else tok_text\n",
    "print(f\"Padded Text: {t}\")"
   ]
  },
  {
   "cell_type": "code",
   "execution_count": 20,
   "metadata": {},
   "outputs": [],
   "source": [
    "toks = [word_tokenize(question) for question in data_raw.Questions]"
   ]
  },
  {
   "cell_type": "code",
   "execution_count": 93,
   "metadata": {},
   "outputs": [],
   "source": [
    "postagged = [pos_tag(tok) for tok in toks]\n",
    "\n",
    "pos_tags = []\n",
    "\n",
    "for i in range(len(postagged)):\n",
    "    postagged[i]\n",
    "    tags = []\n",
    "    for j in range(len(postagged[i])):\n",
    "        tags.append(postagged[i][j][1])\n",
    "    pos_tags.append(tags)\n",
    "\n",
    "def list_to_array_pos_tag(pos_tag):\n",
    "    pos_tags = pos_tag+[\"<PAD>\"]*(37-len(pos_tag)) if len(pos_tag) < 37 else pos_tag\n",
    "    return np.array([\n",
    "        '-' if pos_tag == \"<PAD>\" else pos_tag\n",
    "        for pos_tag in pos_tags\n",
    "    ])"
   ]
  },
  {
   "cell_type": "code",
   "execution_count": 95,
   "metadata": {},
   "outputs": [
    {
     "data": {
      "text/plain": [
       "array(['WRB', 'VBD', 'VB', 'VB', 'IN', 'CC', 'RB', 'VB', 'NNP', '.', '-',\n",
       "       '-', '-', '-', '-', '-', '-', '-', '-', '-', '-', '-', '-', '-',\n",
       "       '-', '-', '-', '-', '-', '-', '-', '-', '-', '-', '-', '-', '-'],\n",
       "      dtype='<U3')"
      ]
     },
     "execution_count": 95,
     "metadata": {},
     "output_type": "execute_result"
    }
   ],
   "source": [
    "list_to_array_pos_tag(pos_tags[0])"
   ]
  },
  {
   "cell_type": "code",
   "execution_count": 20,
   "metadata": {},
   "outputs": [],
   "source": [
    "features = []\n",
    "for i in range(len(questions)):\n",
    "    postagged[i]\n",
    "    \n",
    "    question_features = np.array(())\n",
    "    question_count = []\n",
    "    token_count = []\n",
    "    tokens = []\n",
    "    postags = []\n",
    "    \n",
    "    for j in range(len(postagged[i])):\n",
    "        question_count.append(i)\n",
    "        token_count.append(j)\n",
    "        tokens.append(postagged[i][j][0])\n",
    "        postags.append(postagged[i][j][1])\n",
    "    \n",
    "    a = np.array(question_count)\n",
    "    b = np.array(token_count)\n",
    "    c = np.array(tokens)\n",
    "    d = np.array(postags)\n",
    "    \n",
    "    question_features = np.column_stack((a,b,c,d))\n",
    "    features.append(question_features)\n",
    "\n",
    "features = np.array(features)"
   ]
  },
  {
   "cell_type": "code",
   "execution_count": null,
   "metadata": {},
   "outputs": [],
   "source": []
  }
 ],
 "metadata": {
  "kernelspec": {
   "display_name": "Python 3",
   "language": "python",
   "name": "python3"
  },
  "language_info": {
   "codemirror_mode": {
    "name": "ipython",
    "version": 3
   },
   "file_extension": ".py",
   "mimetype": "text/x-python",
   "name": "python",
   "nbconvert_exporter": "python",
   "pygments_lexer": "ipython3",
   "version": "3.7.4"
  }
 },
 "nbformat": 4,
 "nbformat_minor": 2
}
